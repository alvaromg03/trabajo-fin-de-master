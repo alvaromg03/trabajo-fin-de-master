{
 "cells": [
  {
   "cell_type": "code",
   "execution_count": 1,
   "id": "4ccb7120-a149-4873-b6ab-f0fbcbab21ce",
   "metadata": {
    "id": "4ccb7120-a149-4873-b6ab-f0fbcbab21ce"
   },
   "outputs": [],
   "source": [
    "projPath = '/home/anna/Documents/Publicacions/articles/heroina/SimuladorAIS/project/'"
   ]
  },
  {
   "cell_type": "code",
   "execution_count": 2,
   "id": "dcebcf0b",
   "metadata": {},
   "outputs": [],
   "source": [
    "projPath_save = '/home/alvaro/notebook/jupyterenv/bin/TFM/22-23_Maniobres-20221022T161922Z-001/22-23_Maniobres/data/interim/'"
   ]
  },
  {
   "cell_type": "code",
   "execution_count": 3,
   "id": "cc5fd0f9",
   "metadata": {},
   "outputs": [],
   "source": [
    "projPath_save_test = '/home/alvaro/notebook/jupyterenv/bin/TFM/CODIGO/test_tfm_code_test/'"
   ]
  },
  {
   "cell_type": "code",
   "execution_count": 4,
   "id": "4fd27d5d-5cd9-47e7-ad5f-11cf44f3f5f0",
   "metadata": {
    "id": "4fd27d5d-5cd9-47e7-ad5f-11cf44f3f5f0"
   },
   "outputs": [],
   "source": [
    "rawAISpath = '/home/alvaro/notebook/jupyterenv/bin/TFM/22-23_Maniobres-20221022T161922Z-001/22-23_Maniobres/data/raw/'"
   ]
  },
  {
   "cell_type": "code",
   "execution_count": 5,
   "id": "d0f5c19c-2516-4f7e-9d0e-734d98242e95",
   "metadata": {
    "id": "d0f5c19c-2516-4f7e-9d0e-734d98242e95"
   },
   "outputs": [],
   "source": [
    "month = '202206'"
   ]
  },
  {
   "cell_type": "code",
   "execution_count": 6,
   "id": "edbc2846-8a3a-4be1-a40a-4b5f5fa5d624",
   "metadata": {
    "id": "edbc2846-8a3a-4be1-a40a-4b5f5fa5d624"
   },
   "outputs": [],
   "source": [
    "darsena = '_DM'"
   ]
  },
  {
   "cell_type": "markdown",
   "id": "439f2275-be33-4440-8c80-4ffac947f0a8",
   "metadata": {
    "id": "439f2275-be33-4440-8c80-4ffac947f0a8"
   },
   "source": [
    "# Global variables"
   ]
  },
  {
   "cell_type": "code",
   "execution_count": 7,
   "id": "6507044b-ec89-45cc-a354-0e6243c53ad0",
   "metadata": {
    "id": "6507044b-ec89-45cc-a354-0e6243c53ad0"
   },
   "outputs": [],
   "source": [
    "buffer_basin = 20 #m\n",
    "buffer_dock = 30 #m\n",
    "\n",
    "min_points = 10"
   ]
  },
  {
   "cell_type": "markdown",
   "id": "fed03e1a-2914-4ffc-9f05-459f87f45221",
   "metadata": {
    "id": "fed03e1a-2914-4ffc-9f05-459f87f45221"
   },
   "source": [
    "# Libraries"
   ]
  },
  {
   "cell_type": "code",
   "execution_count": 8,
   "id": "7cfd54a6-26fa-4a9f-937a-3172d64365de",
   "metadata": {
    "id": "7cfd54a6-26fa-4a9f-937a-3172d64365de"
   },
   "outputs": [],
   "source": [
    "import numpy as np\n",
    "import pandas as pd\n",
    "\n",
    "import geopandas as gpd\n",
    "\n",
    "import matplotlib.pyplot as plt\n",
    "import seaborn as sns"
   ]
  },
  {
   "cell_type": "code",
   "execution_count": 9,
   "id": "034f6851-98d4-46cf-81d0-236573fec28f",
   "metadata": {
    "id": "034f6851-98d4-46cf-81d0-236573fec28f"
   },
   "outputs": [],
   "source": [
    "%matplotlib inline"
   ]
  },
  {
   "cell_type": "markdown",
   "id": "3fd18e04-c7db-4217-b115-88f618f03c13",
   "metadata": {
    "id": "3fd18e04-c7db-4217-b115-88f618f03c13"
   },
   "source": [
    "# Load data"
   ]
  },
  {
   "cell_type": "markdown",
   "id": "b335bfae-1792-4288-82fa-298d1cfca786",
   "metadata": {
    "id": "b335bfae-1792-4288-82fa-298d1cfca786"
   },
   "source": [
    "## Dynamic "
   ]
  },
  {
   "cell_type": "code",
   "execution_count": 10,
   "id": "1b80ead8-6c2c-4954-a475-e5de8fa787e3",
   "metadata": {
    "id": "1b80ead8-6c2c-4954-a475-e5de8fa787e3",
    "outputId": "8540a306-538d-46a5-f46a-4a256e56854d"
   },
   "outputs": [
    {
     "data": {
      "text/plain": [
       "11527296"
      ]
     },
     "execution_count": 10,
     "metadata": {},
     "output_type": "execute_result"
    }
   ],
   "source": [
    "dfA = pd.read_csv(rawAISpath + month + '/filtered_ClassA.csv')\n",
    "dfA.drop(columns = 'second_sent', inplace = True)\n",
    "len(dfA)"
   ]
  },
  {
   "cell_type": "code",
   "execution_count": 11,
   "id": "2c1cf80d",
   "metadata": {},
   "outputs": [
    {
     "data": {
      "text/html": [
       "<div>\n",
       "<style scoped>\n",
       "    .dataframe tbody tr th:only-of-type {\n",
       "        vertical-align: middle;\n",
       "    }\n",
       "\n",
       "    .dataframe tbody tr th {\n",
       "        vertical-align: top;\n",
       "    }\n",
       "\n",
       "    .dataframe thead th {\n",
       "        text-align: right;\n",
       "    }\n",
       "</style>\n",
       "<table border=\"1\" class=\"dataframe\">\n",
       "  <thead>\n",
       "    <tr style=\"text-align: right;\">\n",
       "      <th></th>\n",
       "      <th>date</th>\n",
       "      <th>mmsi</th>\n",
       "      <th>status</th>\n",
       "      <th>turn</th>\n",
       "      <th>speed</th>\n",
       "      <th>lon</th>\n",
       "      <th>lat</th>\n",
       "      <th>course</th>\n",
       "      <th>heading</th>\n",
       "    </tr>\n",
       "  </thead>\n",
       "  <tbody>\n",
       "    <tr>\n",
       "      <th>0</th>\n",
       "      <td>20220601000000</td>\n",
       "      <td>255801940</td>\n",
       "      <td>0</td>\n",
       "      <td>0.0</td>\n",
       "      <td>138.0</td>\n",
       "      <td>2.07723</td>\n",
       "      <td>41.18420</td>\n",
       "      <td>224.8</td>\n",
       "      <td>223.0</td>\n",
       "    </tr>\n",
       "    <tr>\n",
       "      <th>1</th>\n",
       "      <td>20220601000000</td>\n",
       "      <td>224569880</td>\n",
       "      <td>0</td>\n",
       "      <td>NaN</td>\n",
       "      <td>0.0</td>\n",
       "      <td>2.15260</td>\n",
       "      <td>41.34609</td>\n",
       "      <td>224.8</td>\n",
       "      <td>NaN</td>\n",
       "    </tr>\n",
       "    <tr>\n",
       "      <th>2</th>\n",
       "      <td>20220601000000</td>\n",
       "      <td>224138680</td>\n",
       "      <td>15</td>\n",
       "      <td>NaN</td>\n",
       "      <td>6.0</td>\n",
       "      <td>2.25217</td>\n",
       "      <td>41.36663</td>\n",
       "      <td>341.3</td>\n",
       "      <td>NaN</td>\n",
       "    </tr>\n",
       "    <tr>\n",
       "      <th>3</th>\n",
       "      <td>20220601000000</td>\n",
       "      <td>224296000</td>\n",
       "      <td>5</td>\n",
       "      <td>-6.0</td>\n",
       "      <td>0.0</td>\n",
       "      <td>2.15311</td>\n",
       "      <td>41.34397</td>\n",
       "      <td>18.7</td>\n",
       "      <td>185.0</td>\n",
       "    </tr>\n",
       "    <tr>\n",
       "      <th>4</th>\n",
       "      <td>20220601000001</td>\n",
       "      <td>247383500</td>\n",
       "      <td>0</td>\n",
       "      <td>0.0</td>\n",
       "      <td>176.0</td>\n",
       "      <td>2.31002</td>\n",
       "      <td>41.31993</td>\n",
       "      <td>235.4</td>\n",
       "      <td>234.0</td>\n",
       "    </tr>\n",
       "  </tbody>\n",
       "</table>\n",
       "</div>"
      ],
      "text/plain": [
       "             date       mmsi  status  turn  speed      lon       lat  course  \\\n",
       "0  20220601000000  255801940       0   0.0  138.0  2.07723  41.18420   224.8   \n",
       "1  20220601000000  224569880       0   NaN    0.0  2.15260  41.34609   224.8   \n",
       "2  20220601000000  224138680      15   NaN    6.0  2.25217  41.36663   341.3   \n",
       "3  20220601000000  224296000       5  -6.0    0.0  2.15311  41.34397    18.7   \n",
       "4  20220601000001  247383500       0   0.0  176.0  2.31002  41.31993   235.4   \n",
       "\n",
       "   heading  \n",
       "0    223.0  \n",
       "1      NaN  \n",
       "2      NaN  \n",
       "3    185.0  \n",
       "4    234.0  "
      ]
     },
     "execution_count": 11,
     "metadata": {},
     "output_type": "execute_result"
    }
   ],
   "source": [
    "dfA.head()"
   ]
  },
  {
   "cell_type": "markdown",
   "id": "bc917f82-7bae-42a0-ab19-356567572764",
   "metadata": {
    "id": "bc917f82-7bae-42a0-ab19-356567572764"
   },
   "source": [
    "Remove rows with empty mmsi"
   ]
  },
  {
   "cell_type": "code",
   "execution_count": 11,
   "id": "fe83b99c-eab9-4bde-9048-89c280f051be",
   "metadata": {
    "id": "fe83b99c-eab9-4bde-9048-89c280f051be",
    "outputId": "1782450c-8508-485b-95da-9636e45e33aa"
   },
   "outputs": [
    {
     "data": {
      "text/plain": [
       "11527296"
      ]
     },
     "execution_count": 11,
     "metadata": {},
     "output_type": "execute_result"
    }
   ],
   "source": [
    "dfA = dfA.loc[~dfA.mmsi.isnull()].copy()\n",
    "len(dfA)"
   ]
  },
  {
   "cell_type": "markdown",
   "id": "90555b59-3a40-4756-9c4c-b7a052ecf731",
   "metadata": {
    "id": "90555b59-3a40-4756-9c4c-b7a052ecf731"
   },
   "source": [
    "Arrange date time"
   ]
  },
  {
   "cell_type": "code",
   "execution_count": 12,
   "id": "53a544fe-de29-4342-9606-fca959dfc8d3",
   "metadata": {
    "id": "53a544fe-de29-4342-9606-fca959dfc8d3"
   },
   "outputs": [],
   "source": [
    "dfA.rename(columns={'date':'time_stamp'}, inplace = True)"
   ]
  },
  {
   "cell_type": "code",
   "execution_count": 13,
   "id": "7eb91269-bd7d-4f1c-a680-0dcd740bcd94",
   "metadata": {
    "id": "7eb91269-bd7d-4f1c-a680-0dcd740bcd94"
   },
   "outputs": [],
   "source": [
    "dfA['time_stamp'] = pd.to_datetime(dfA['time_stamp'], format = '%Y%m%d%H%M%S')"
   ]
  },
  {
   "cell_type": "code",
   "execution_count": 14,
   "id": "70f87fab-ce77-40cc-9115-56c259a11f63",
   "metadata": {
    "id": "70f87fab-ce77-40cc-9115-56c259a11f63",
    "outputId": "8de7a7de-9dc4-4089-c2e2-7b569bb938c3"
   },
   "outputs": [
    {
     "data": {
      "text/html": [
       "<div>\n",
       "<style scoped>\n",
       "    .dataframe tbody tr th:only-of-type {\n",
       "        vertical-align: middle;\n",
       "    }\n",
       "\n",
       "    .dataframe tbody tr th {\n",
       "        vertical-align: top;\n",
       "    }\n",
       "\n",
       "    .dataframe thead th {\n",
       "        text-align: right;\n",
       "    }\n",
       "</style>\n",
       "<table border=\"1\" class=\"dataframe\">\n",
       "  <thead>\n",
       "    <tr style=\"text-align: right;\">\n",
       "      <th></th>\n",
       "      <th>time_stamp</th>\n",
       "      <th>mmsi</th>\n",
       "      <th>status</th>\n",
       "      <th>turn</th>\n",
       "      <th>speed</th>\n",
       "      <th>lon</th>\n",
       "      <th>lat</th>\n",
       "      <th>course</th>\n",
       "      <th>heading</th>\n",
       "    </tr>\n",
       "  </thead>\n",
       "  <tbody>\n",
       "    <tr>\n",
       "      <th>0</th>\n",
       "      <td>2022-06-01 00:00:00</td>\n",
       "      <td>255801940</td>\n",
       "      <td>0</td>\n",
       "      <td>0.0</td>\n",
       "      <td>138.0</td>\n",
       "      <td>2.07723</td>\n",
       "      <td>41.18420</td>\n",
       "      <td>224.8</td>\n",
       "      <td>223.0</td>\n",
       "    </tr>\n",
       "    <tr>\n",
       "      <th>1</th>\n",
       "      <td>2022-06-01 00:00:00</td>\n",
       "      <td>224569880</td>\n",
       "      <td>0</td>\n",
       "      <td>NaN</td>\n",
       "      <td>0.0</td>\n",
       "      <td>2.15260</td>\n",
       "      <td>41.34609</td>\n",
       "      <td>224.8</td>\n",
       "      <td>NaN</td>\n",
       "    </tr>\n",
       "    <tr>\n",
       "      <th>2</th>\n",
       "      <td>2022-06-01 00:00:00</td>\n",
       "      <td>224138680</td>\n",
       "      <td>15</td>\n",
       "      <td>NaN</td>\n",
       "      <td>6.0</td>\n",
       "      <td>2.25217</td>\n",
       "      <td>41.36663</td>\n",
       "      <td>341.3</td>\n",
       "      <td>NaN</td>\n",
       "    </tr>\n",
       "    <tr>\n",
       "      <th>3</th>\n",
       "      <td>2022-06-01 00:00:00</td>\n",
       "      <td>224296000</td>\n",
       "      <td>5</td>\n",
       "      <td>-6.0</td>\n",
       "      <td>0.0</td>\n",
       "      <td>2.15311</td>\n",
       "      <td>41.34397</td>\n",
       "      <td>18.7</td>\n",
       "      <td>185.0</td>\n",
       "    </tr>\n",
       "    <tr>\n",
       "      <th>4</th>\n",
       "      <td>2022-06-01 00:00:01</td>\n",
       "      <td>247383500</td>\n",
       "      <td>0</td>\n",
       "      <td>0.0</td>\n",
       "      <td>176.0</td>\n",
       "      <td>2.31002</td>\n",
       "      <td>41.31993</td>\n",
       "      <td>235.4</td>\n",
       "      <td>234.0</td>\n",
       "    </tr>\n",
       "  </tbody>\n",
       "</table>\n",
       "</div>"
      ],
      "text/plain": [
       "           time_stamp       mmsi  status  turn  speed      lon       lat  \\\n",
       "0 2022-06-01 00:00:00  255801940       0   0.0  138.0  2.07723  41.18420   \n",
       "1 2022-06-01 00:00:00  224569880       0   NaN    0.0  2.15260  41.34609   \n",
       "2 2022-06-01 00:00:00  224138680      15   NaN    6.0  2.25217  41.36663   \n",
       "3 2022-06-01 00:00:00  224296000       5  -6.0    0.0  2.15311  41.34397   \n",
       "4 2022-06-01 00:00:01  247383500       0   0.0  176.0  2.31002  41.31993   \n",
       "\n",
       "   course  heading  \n",
       "0   224.8    223.0  \n",
       "1   224.8      NaN  \n",
       "2   341.3      NaN  \n",
       "3    18.7    185.0  \n",
       "4   235.4    234.0  "
      ]
     },
     "execution_count": 14,
     "metadata": {},
     "output_type": "execute_result"
    }
   ],
   "source": [
    "dfA.head()"
   ]
  },
  {
   "cell_type": "markdown",
   "id": "44f79004-a702-48bf-8fa6-288322f44b30",
   "metadata": {
    "id": "44f79004-a702-48bf-8fa6-288322f44b30"
   },
   "source": [
    "## Static "
   ]
  },
  {
   "cell_type": "code",
   "execution_count": 12,
   "id": "56e2ec28-49cd-456e-ba2d-bae6c0f943a3",
   "metadata": {
    "id": "56e2ec28-49cd-456e-ba2d-bae6c0f943a3"
   },
   "outputs": [],
   "source": [
    "dfAs = pd.read_csv(rawAISpath + month + '/static_ClassA.csv', parse_dates = ['day'])"
   ]
  },
  {
   "cell_type": "code",
   "execution_count": 13,
   "id": "8a2f32b6",
   "metadata": {},
   "outputs": [
    {
     "data": {
      "text/html": [
       "<div>\n",
       "<style scoped>\n",
       "    .dataframe tbody tr th:only-of-type {\n",
       "        vertical-align: middle;\n",
       "    }\n",
       "\n",
       "    .dataframe tbody tr th {\n",
       "        vertical-align: top;\n",
       "    }\n",
       "\n",
       "    .dataframe thead th {\n",
       "        text-align: right;\n",
       "    }\n",
       "</style>\n",
       "<table border=\"1\" class=\"dataframe\">\n",
       "  <thead>\n",
       "    <tr style=\"text-align: right;\">\n",
       "      <th></th>\n",
       "      <th>mmsi</th>\n",
       "      <th>shipname</th>\n",
       "      <th>shiptype</th>\n",
       "      <th>draught</th>\n",
       "      <th>day</th>\n",
       "      <th>to_bow</th>\n",
       "      <th>to_stern</th>\n",
       "      <th>to_starboard</th>\n",
       "      <th>to_port</th>\n",
       "      <th>imo</th>\n",
       "    </tr>\n",
       "  </thead>\n",
       "  <tbody>\n",
       "    <tr>\n",
       "      <th>0</th>\n",
       "      <td>249567000</td>\n",
       "      <td>MRC EMIRHAN</td>\n",
       "      <td>82</td>\n",
       "      <td>6.4</td>\n",
       "      <td>2022-06-01</td>\n",
       "      <td>88.0</td>\n",
       "      <td>19.0</td>\n",
       "      <td>2.0</td>\n",
       "      <td>14.0</td>\n",
       "      <td>9444936</td>\n",
       "    </tr>\n",
       "    <tr>\n",
       "      <th>1</th>\n",
       "      <td>249567000</td>\n",
       "      <td>MRC EMIRHAN</td>\n",
       "      <td>80</td>\n",
       "      <td>5.0</td>\n",
       "      <td>2022-06-02</td>\n",
       "      <td>88.0</td>\n",
       "      <td>19.0</td>\n",
       "      <td>2.0</td>\n",
       "      <td>14.0</td>\n",
       "      <td>9444936</td>\n",
       "    </tr>\n",
       "    <tr>\n",
       "      <th>2</th>\n",
       "      <td>636016492</td>\n",
       "      <td>MSC SAO PAULO</td>\n",
       "      <td>71</td>\n",
       "      <td>9.2</td>\n",
       "      <td>2022-06-01</td>\n",
       "      <td>247.0</td>\n",
       "      <td>47.0</td>\n",
       "      <td>20.0</td>\n",
       "      <td>12.0</td>\n",
       "      <td>9147071</td>\n",
       "    </tr>\n",
       "    <tr>\n",
       "      <th>3</th>\n",
       "      <td>636016492</td>\n",
       "      <td>MSC SAO PAULO</td>\n",
       "      <td>74</td>\n",
       "      <td>10.3</td>\n",
       "      <td>2022-06-15</td>\n",
       "      <td>247.0</td>\n",
       "      <td>47.0</td>\n",
       "      <td>20.0</td>\n",
       "      <td>12.0</td>\n",
       "      <td>9147071</td>\n",
       "    </tr>\n",
       "    <tr>\n",
       "      <th>4</th>\n",
       "      <td>636016492</td>\n",
       "      <td>MSC SAO PAULO</td>\n",
       "      <td>74</td>\n",
       "      <td>9.2</td>\n",
       "      <td>2022-06-16</td>\n",
       "      <td>247.0</td>\n",
       "      <td>47.0</td>\n",
       "      <td>20.0</td>\n",
       "      <td>12.0</td>\n",
       "      <td>9147071</td>\n",
       "    </tr>\n",
       "  </tbody>\n",
       "</table>\n",
       "</div>"
      ],
      "text/plain": [
       "        mmsi              shipname  shiptype  draught        day  to_bow  \\\n",
       "0  249567000  MRC EMIRHAN                 82      6.4 2022-06-01    88.0   \n",
       "1  249567000  MRC EMIRHAN                 80      5.0 2022-06-02    88.0   \n",
       "2  636016492  MSC SAO PAULO               71      9.2 2022-06-01   247.0   \n",
       "3  636016492  MSC SAO PAULO               74     10.3 2022-06-15   247.0   \n",
       "4  636016492  MSC SAO PAULO               74      9.2 2022-06-16   247.0   \n",
       "\n",
       "   to_stern  to_starboard  to_port      imo  \n",
       "0      19.0           2.0     14.0  9444936  \n",
       "1      19.0           2.0     14.0  9444936  \n",
       "2      47.0          20.0     12.0  9147071  \n",
       "3      47.0          20.0     12.0  9147071  \n",
       "4      47.0          20.0     12.0  9147071  "
      ]
     },
     "execution_count": 13,
     "metadata": {},
     "output_type": "execute_result"
    }
   ],
   "source": [
    "dfAs.head()"
   ]
  },
  {
   "cell_type": "code",
   "execution_count": 16,
   "id": "cf3426f2-75d2-4a93-b34d-4b47c23a4ac3",
   "metadata": {
    "id": "cf3426f2-75d2-4a93-b34d-4b47c23a4ac3"
   },
   "outputs": [],
   "source": [
    "dfAs['day'] = dfAs['day'].dt.date"
   ]
  },
  {
   "cell_type": "markdown",
   "id": "54b0cad5-7f4e-466b-b50c-9d9bc28323ab",
   "metadata": {
    "id": "54b0cad5-7f4e-466b-b50c-9d9bc28323ab"
   },
   "source": [
    "## Map "
   ]
  },
  {
   "cell_type": "code",
   "execution_count": 17,
   "id": "3ceae885-b23b-4d2d-b755-f9eacc2f8e23",
   "metadata": {
    "id": "3ceae885-b23b-4d2d-b755-f9eacc2f8e23"
   },
   "outputs": [],
   "source": [
    "moll_map = gpd.read_file('/home/alvaro/notebook/jupyterenv/bin/TFM/22-23_Maniobres-20221022T161922Z-001/22-23_Maniobres/data/maps/MollsDarsenaMorrot_noTalo.shp')\n",
    "dm_map = gpd.read_file('/home/alvaro/notebook/jupyterenv/bin/TFM/22-23_Maniobres-20221022T161922Z-001/22-23_Maniobres/data/maps/DarsenaMorrot.shp')"
   ]
  },
  {
   "cell_type": "code",
   "execution_count": 18,
   "id": "a3d0b9de-ecf4-44f0-b219-0377a2772dd6",
   "metadata": {
    "colab": {
     "referenced_widgets": [
      "1548d5ec0a0845e19b1637b3ff67213f"
     ]
    },
    "id": "a3d0b9de-ecf4-44f0-b219-0377a2772dd6",
    "outputId": "d870a6c6-8bf8-4cd4-c99d-7df6a6643cbd"
   },
   "outputs": [
    {
     "data": {
      "text/plain": [
       "<AxesSubplot:>"
      ]
     },
     "execution_count": 18,
     "metadata": {},
     "output_type": "execute_result"
    },
    {
     "data": {
      "image/png": "[encoded data removed]",
      "text/plain": [
       "<Figure size 432x288 with 1 Axes>"
      ]
     },
     "metadata": {
      "needs_background": "light"
     },
     "output_type": "display_data"
    }
   ],
   "source": [
    "dm_map.plot()"
   ]
  },
  {
   "cell_type": "code",
   "execution_count": 19,
   "id": "d7190b4d-1b84-4900-b09a-c20fd87c8207",
   "metadata": {
    "id": "d7190b4d-1b84-4900-b09a-c20fd87c8207",
    "outputId": "269c3a2f-86e8-4bf2-cd21-98113dff3ce2"
   },
   "outputs": [
    {
     "data": {
      "text/plain": [
       "<Geographic 2D CRS: EPSG:4326>\n",
       "Name: WGS 84\n",
       "Axis Info [ellipsoidal]:\n",
       "- Lat[north]: Geodetic latitude (degree)\n",
       "- Lon[east]: Geodetic longitude (degree)\n",
       "Area of Use:\n",
       "- name: World.\n",
       "- bounds: (-180.0, -90.0, 180.0, 90.0)\n",
       "Datum: World Geodetic System 1984\n",
       "- Ellipsoid: WGS 84\n",
       "- Prime Meridian: Greenwich"
      ]
     },
     "execution_count": 19,
     "metadata": {},
     "output_type": "execute_result"
    }
   ],
   "source": [
    "dm_map.crs"
   ]
  },
  {
   "cell_type": "code",
   "execution_count": 20,
   "id": "78b4fd5c-7bd1-4b7b-80ca-5e876a82c398",
   "metadata": {
    "id": "78b4fd5c-7bd1-4b7b-80ca-5e876a82c398",
    "outputId": "690b9f3e-23a8-4e72-b3fd-8074d8ff9473"
   },
   "outputs": [
    {
     "data": {
      "text/plain": [
       "<Geographic 2D CRS: EPSG:4326>\n",
       "Name: WGS 84\n",
       "Axis Info [ellipsoidal]:\n",
       "- Lat[north]: Geodetic latitude (degree)\n",
       "- Lon[east]: Geodetic longitude (degree)\n",
       "Area of Use:\n",
       "- name: World.\n",
       "- bounds: (-180.0, -90.0, 180.0, 90.0)\n",
       "Datum: World Geodetic System 1984\n",
       "- Ellipsoid: WGS 84\n",
       "- Prime Meridian: Greenwich"
      ]
     },
     "execution_count": 20,
     "metadata": {},
     "output_type": "execute_result"
    }
   ],
   "source": [
    "dm_buffer = gpd.GeoDataFrame(geometry = dm_map.to_crs(32631).buffer(buffer_basin).to_crs(4326))\n",
    "dm_buffer.crs"
   ]
  },
  {
   "cell_type": "code",
   "execution_count": 21,
   "id": "a24a485e-c940-46d0-996f-56ac57d74aac",
   "metadata": {
    "id": "a24a485e-c940-46d0-996f-56ac57d74aac"
   },
   "outputs": [],
   "source": [
    "moll_buffer = gpd.GeoDataFrame(geometry = moll_map.to_crs(32631).buffer(buffer_dock, cap_style = 2,join_style = 2).to_crs(4326))"
   ]
  },
  {
   "cell_type": "code",
   "execution_count": 22,
   "id": "9443c102-ff65-4b9e-975a-87fa7bf7b4b0",
   "metadata": {
    "colab": {
     "referenced_widgets": [
      "cc6c8bd01ec744dfb690ddcde83d77a4"
     ]
    },
    "id": "9443c102-ff65-4b9e-975a-87fa7bf7b4b0",
    "outputId": "d73637d3-8f9e-448e-a6ce-49e9bc0216e0"
   },
   "outputs": [
    {
     "data": {
      "text/plain": [
       "<AxesSubplot:>"
      ]
     },
     "execution_count": 22,
     "metadata": {},
     "output_type": "execute_result"
    },
    {
     "data": {
      "image/png": "[encoded data removed]",
      "text/plain": [
       "<Figure size 432x288 with 1 Axes>"
      ]
     },
     "metadata": {
      "needs_background": "light"
     },
     "output_type": "display_data"
    }
   ],
   "source": [
    "fig, ax = plt.subplots()\n",
    "dm_map.plot(ax = ax, fc = 'none', ec = 'blue')\n",
    "dm_buffer.plot(ax = ax, fc = 'none', ec = 'red')\n",
    "moll_buffer.plot(ax = ax, fc = 'none', ec = 'green')\n"
   ]
  },
  {
   "cell_type": "markdown",
   "id": "711025e2-297e-43d0-96c7-b71f896f93fd",
   "metadata": {
    "id": "711025e2-297e-43d0-96c7-b71f896f93fd"
   },
   "source": [
    "# Initial spatial filter"
   ]
  },
  {
   "cell_type": "code",
   "execution_count": 23,
   "id": "efdc0f03-d25b-452e-b7d0-8b4973f83da0",
   "metadata": {
    "id": "efdc0f03-d25b-452e-b7d0-8b4973f83da0"
   },
   "outputs": [],
   "source": [
    "lonmin = dm_buffer.geometry.bounds.minx[0]\n",
    "lonmax = dm_buffer.geometry.bounds.maxx[0]\n",
    "latmin = dm_buffer.geometry.bounds.miny[0]\n",
    "latmax = dm_buffer.geometry.bounds.maxy[0]"
   ]
  },
  {
   "cell_type": "markdown",
   "id": "4b50c1b9-6837-4dbe-81a2-a8f02be295ae",
   "metadata": {
    "id": "4b50c1b9-6837-4dbe-81a2-a8f02be295ae"
   },
   "source": [
    "**Dàrsena del morrot**\n",
    "lonmin = 2.173055\n",
    "lonmax = 2.18157\n",
    "latmin = 41.35888\n",
    "latmax = 41.365536"
   ]
  },
  {
   "cell_type": "markdown",
   "id": "1de20696-aaa4-4a92-aabe-3a8f2b7e58f2",
   "metadata": {
    "id": "1de20696-aaa4-4a92-aabe-3a8f2b7e58f2"
   },
   "source": [
    "**Dàrsena de l'energia**\n",
    "lonmin = 2.14\n",
    "lonmax = 2.17\n",
    "latmin = 41.3275\n",
    "latmax = 41.35"
   ]
  },
  {
   "cell_type": "markdown",
   "id": "bef5c1f1-b315-4583-9834-12c7d1a1a884",
   "metadata": {
    "id": "bef5c1f1-b315-4583-9834-12c7d1a1a884"
   },
   "source": [
    "**Port de Barcelona**\n",
    "lonmin = 2.118925\n",
    "lonmax = 2.199688\n",
    "latmin = 41.288579\n",
    "latmax = 41.381801"
   ]
  },
  {
   "cell_type": "code",
   "execution_count": 24,
   "id": "04c35ded-fcb3-487c-8abe-9e1fdabf69d1",
   "metadata": {
    "id": "04c35ded-fcb3-487c-8abe-9e1fdabf69d1",
    "outputId": "078c811a-6a45-4204-99f2-ac27c51bf41f"
   },
   "outputs": [
    {
     "data": {
      "text/plain": [
       "328355"
      ]
     },
     "execution_count": 24,
     "metadata": {},
     "output_type": "execute_result"
    }
   ],
   "source": [
    "dfA = dfA.loc[(dfA.lon>=lonmin)&(dfA.lon<=lonmax)&(dfA.lat>=latmin)&(dfA.lat<=latmax)].copy()\n",
    "len(dfA)"
   ]
  },
  {
   "cell_type": "code",
   "execution_count": 25,
   "id": "64d0e58e-1d18-435c-9318-4710172cdd11",
   "metadata": {
    "id": "64d0e58e-1d18-435c-9318-4710172cdd11"
   },
   "outputs": [],
   "source": [
    "dfA.reset_index(inplace = True, drop = True)"
   ]
  },
  {
   "cell_type": "markdown",
   "id": "eab49709-6ec0-42f1-b90b-0143b4d0cd5c",
   "metadata": {
    "id": "eab49709-6ec0-42f1-b90b-0143b4d0cd5c",
    "tags": []
   },
   "source": [
    "# GeoDataFrame"
   ]
  },
  {
   "cell_type": "code",
   "execution_count": 26,
   "id": "ca647564-8fbc-49c0-b5ba-43544550e9f8",
   "metadata": {
    "id": "ca647564-8fbc-49c0-b5ba-43544550e9f8"
   },
   "outputs": [],
   "source": [
    "gdfA = gpd.GeoDataFrame(dfA[['mmsi','lon','lat']], geometry = gpd.points_from_xy(dfA.lon, dfA.lat),crs = dm_map.crs)"
   ]
  },
  {
   "cell_type": "code",
   "execution_count": 27,
   "id": "b9707c49-82a6-4c8a-929a-86a9b57755a5",
   "metadata": {
    "id": "b9707c49-82a6-4c8a-929a-86a9b57755a5",
    "outputId": "48c2b18d-eeba-4373-b887-b339fe8b64a1"
   },
   "outputs": [
    {
     "data": {
      "text/html": [
       "<div>\n",
       "<style scoped>\n",
       "    .dataframe tbody tr th:only-of-type {\n",
       "        vertical-align: middle;\n",
       "    }\n",
       "\n",
       "    .dataframe tbody tr th {\n",
       "        vertical-align: top;\n",
       "    }\n",
       "\n",
       "    .dataframe thead th {\n",
       "        text-align: right;\n",
       "    }\n",
       "</style>\n",
       "<table border=\"1\" class=\"dataframe\">\n",
       "  <thead>\n",
       "    <tr style=\"text-align: right;\">\n",
       "      <th></th>\n",
       "      <th>mmsi</th>\n",
       "      <th>lon</th>\n",
       "      <th>lat</th>\n",
       "      <th>geometry</th>\n",
       "    </tr>\n",
       "  </thead>\n",
       "  <tbody>\n",
       "    <tr>\n",
       "      <th>0</th>\n",
       "      <td>224878000</td>\n",
       "      <td>2.17964</td>\n",
       "      <td>41.36394</td>\n",
       "      <td>POINT (2.17964 41.36394)</td>\n",
       "    </tr>\n",
       "    <tr>\n",
       "      <th>1</th>\n",
       "      <td>224878000</td>\n",
       "      <td>2.17964</td>\n",
       "      <td>41.36394</td>\n",
       "      <td>POINT (2.17964 41.36394)</td>\n",
       "    </tr>\n",
       "    <tr>\n",
       "      <th>2</th>\n",
       "      <td>224878000</td>\n",
       "      <td>2.17964</td>\n",
       "      <td>41.36393</td>\n",
       "      <td>POINT (2.17964 41.36393)</td>\n",
       "    </tr>\n",
       "    <tr>\n",
       "      <th>3</th>\n",
       "      <td>224878000</td>\n",
       "      <td>2.17964</td>\n",
       "      <td>41.36393</td>\n",
       "      <td>POINT (2.17964 41.36393)</td>\n",
       "    </tr>\n",
       "    <tr>\n",
       "      <th>4</th>\n",
       "      <td>224878000</td>\n",
       "      <td>2.17964</td>\n",
       "      <td>41.36393</td>\n",
       "      <td>POINT (2.17964 41.36393)</td>\n",
       "    </tr>\n",
       "  </tbody>\n",
       "</table>\n",
       "</div>"
      ],
      "text/plain": [
       "        mmsi      lon       lat                  geometry\n",
       "0  224878000  2.17964  41.36394  POINT (2.17964 41.36394)\n",
       "1  224878000  2.17964  41.36394  POINT (2.17964 41.36394)\n",
       "2  224878000  2.17964  41.36393  POINT (2.17964 41.36393)\n",
       "3  224878000  2.17964  41.36393  POINT (2.17964 41.36393)\n",
       "4  224878000  2.17964  41.36393  POINT (2.17964 41.36393)"
      ]
     },
     "execution_count": 27,
     "metadata": {},
     "output_type": "execute_result"
    }
   ],
   "source": [
    "gdfA.head()"
   ]
  },
  {
   "cell_type": "markdown",
   "id": "33fd024b-90b8-47df-a4a8-4de49f988331",
   "metadata": {
    "id": "33fd024b-90b8-47df-a4a8-4de49f988331"
   },
   "source": [
    "# Spatial filter"
   ]
  },
  {
   "cell_type": "markdown",
   "id": "e4d62952-e35a-489a-af6b-8f5942ecfa6e",
   "metadata": {
    "id": "e4d62952-e35a-489a-af6b-8f5942ecfa6e"
   },
   "source": [
    "## MMSI's docking at Dàrsena "
   ]
  },
  {
   "cell_type": "code",
   "execution_count": 28,
   "id": "67027ae3-5cbd-4d3c-904a-00e0020b84c6",
   "metadata": {
    "id": "67027ae3-5cbd-4d3c-904a-00e0020b84c6"
   },
   "outputs": [],
   "source": [
    "inner = gpd.sjoin(gdfA, moll_buffer, how = 'inner')"
   ]
  },
  {
   "cell_type": "code",
   "execution_count": 29,
   "id": "6462dbc8-696f-4185-9be7-c29b860e4da6",
   "metadata": {
    "id": "6462dbc8-696f-4185-9be7-c29b860e4da6",
    "outputId": "1ad02a27-f2dd-4691-bb1e-a40607e09325"
   },
   "outputs": [
    {
     "data": {
      "text/plain": [
       "220498"
      ]
     },
     "execution_count": 29,
     "metadata": {},
     "output_type": "execute_result"
    }
   ],
   "source": [
    "gdfA = gdfA.loc[gdfA.mmsi.isin(inner.mmsi)]\n",
    "len(gdfA)"
   ]
  },
  {
   "cell_type": "markdown",
   "id": "d0ed4cbd-7a8a-4cd5-83d8-b76a7058d206",
   "metadata": {
    "id": "d0ed4cbd-7a8a-4cd5-83d8-b76a7058d206"
   },
   "source": [
    "## Points within Dàrsena "
   ]
  },
  {
   "cell_type": "code",
   "execution_count": 30,
   "id": "255f7428-b8fc-42bf-8cd2-ccc15f2d0f94",
   "metadata": {
    "id": "255f7428-b8fc-42bf-8cd2-ccc15f2d0f94"
   },
   "outputs": [],
   "source": [
    "inner = gpd.sjoin(gdfA, dm_buffer, how = 'inner', op = 'within')"
   ]
  },
  {
   "cell_type": "code",
   "execution_count": 31,
   "id": "3a866888-b3e7-447f-ba78-0f1f36e9a4ef",
   "metadata": {
    "id": "3a866888-b3e7-447f-ba78-0f1f36e9a4ef",
    "outputId": "16b5a92c-f7d3-45a6-dd37-1bddba47db92"
   },
   "outputs": [
    {
     "data": {
      "text/plain": [
       "210929"
      ]
     },
     "execution_count": 31,
     "metadata": {},
     "output_type": "execute_result"
    }
   ],
   "source": [
    "len(inner)"
   ]
  },
  {
   "cell_type": "code",
   "execution_count": 32,
   "id": "aeb1ed48-3ad2-4230-9146-d643ef948d9e",
   "metadata": {
    "id": "aeb1ed48-3ad2-4230-9146-d643ef948d9e",
    "outputId": "2e00a0cd-42f0-45f1-af8c-48ef8fa4ea6e"
   },
   "outputs": [
    {
     "data": {
      "text/plain": [
       "210929"
      ]
     },
     "execution_count": 32,
     "metadata": {},
     "output_type": "execute_result"
    }
   ],
   "source": [
    "df = dfA.loc[dfA.index.isin(inner.index)].copy()\n",
    "len(df)"
   ]
  },
  {
   "cell_type": "code",
   "execution_count": 33,
   "id": "92c3a837-a41a-485f-b778-797e0d532924",
   "metadata": {
    "id": "92c3a837-a41a-485f-b778-797e0d532924"
   },
   "outputs": [],
   "source": [
    "df.reset_index(inplace = True, drop = True)"
   ]
  },
  {
   "cell_type": "code",
   "execution_count": 34,
   "id": "b1233686-3fe0-4da5-a62c-1639a69c6800",
   "metadata": {
    "id": "b1233686-3fe0-4da5-a62c-1639a69c6800"
   },
   "outputs": [],
   "source": [
    "df['day'] = df.time_stamp.dt.date"
   ]
  },
  {
   "cell_type": "markdown",
   "id": "523555f5-a490-4e5e-a836-9975e597bc37",
   "metadata": {
    "id": "523555f5-a490-4e5e-a836-9975e597bc37"
   },
   "source": [
    "## Apply to static messages"
   ]
  },
  {
   "cell_type": "code",
   "execution_count": 35,
   "id": "d7ee6c57-a6f6-432f-99a9-d343384b6451",
   "metadata": {
    "id": "d7ee6c57-a6f6-432f-99a9-d343384b6451",
    "outputId": "6b9a1127-91f2-4082-c7db-12bdb2743654"
   },
   "outputs": [
    {
     "data": {
      "text/plain": [
       "6556"
      ]
     },
     "execution_count": 35,
     "metadata": {},
     "output_type": "execute_result"
    }
   ],
   "source": [
    "len(dfAs)"
   ]
  },
  {
   "cell_type": "code",
   "execution_count": 36,
   "id": "19162730-057f-401f-8e0a-d981acc31a99",
   "metadata": {
    "id": "19162730-057f-401f-8e0a-d981acc31a99",
    "outputId": "583b68c9-18a7-4827-8519-7f4b45e8e910"
   },
   "outputs": [
    {
     "data": {
      "text/plain": [
       "391"
      ]
     },
     "execution_count": 36,
     "metadata": {},
     "output_type": "execute_result"
    }
   ],
   "source": [
    "dfAs = dfAs.loc[dfAs.mmsi.isin(df.mmsi.unique())].copy().reset_index()\n",
    "len(dfAs)"
   ]
  },
  {
   "cell_type": "markdown",
   "id": "baf234f6-dd86-448d-a499-a5b8c30cc681",
   "metadata": {
    "id": "baf234f6-dd86-448d-a499-a5b8c30cc681"
   },
   "source": [
    "# Filter mmsi with less than 10 points "
   ]
  },
  {
   "cell_type": "code",
   "execution_count": 37,
   "id": "6f95fb9e-4140-4eb2-9f6e-344f466870df",
   "metadata": {
    "id": "6f95fb9e-4140-4eb2-9f6e-344f466870df"
   },
   "outputs": [],
   "source": [
    "bins = [0,10,50,100,500,1000,2000,3000,4000,5000,10000,50000]"
   ]
  },
  {
   "cell_type": "code",
   "execution_count": 38,
   "id": "77e708d4-e172-44d7-a893-06757c1d1fd7",
   "metadata": {
    "colab": {
     "referenced_widgets": [
      "8f3446169f94419fae4db65af81b21cf"
     ]
    },
    "id": "77e708d4-e172-44d7-a893-06757c1d1fd7",
    "outputId": "460fe1d9-344b-4d12-98ee-8e6b869da885"
   },
   "outputs": [
    {
     "data": {
      "text/plain": [
       "(0.0, 11000.0)"
      ]
     },
     "execution_count": 38,
     "metadata": {},
     "output_type": "execute_result"
    },
    {
     "data": {
      "image/png": "[encoded data removed]",
      "text/plain": [
       "<Figure size 432x288 with 1 Axes>"
      ]
     },
     "metadata": {
      "needs_background": "light"
     },
     "output_type": "display_data"
    }
   ],
   "source": [
    "fig,ax = plt.subplots()\n",
    "df.groupby(by = 'mmsi').size().hist(bins = bins)\n",
    "ax.set_xlim([0,11000])\n"
   ]
  },
  {
   "cell_type": "code",
   "execution_count": 39,
   "id": "57a42c0b-08b8-45fb-8bc2-a729e5aa6588",
   "metadata": {
    "id": "57a42c0b-08b8-45fb-8bc2-a729e5aa6588",
    "outputId": "8f2f8692-9149-42a9-9a29-423c3ae6d374"
   },
   "outputs": [
    {
     "data": {
      "text/html": [
       "<div>\n",
       "<style scoped>\n",
       "    .dataframe tbody tr th:only-of-type {\n",
       "        vertical-align: middle;\n",
       "    }\n",
       "\n",
       "    .dataframe tbody tr th {\n",
       "        vertical-align: top;\n",
       "    }\n",
       "\n",
       "    .dataframe thead th {\n",
       "        text-align: right;\n",
       "    }\n",
       "</style>\n",
       "<table border=\"1\" class=\"dataframe\">\n",
       "  <thead>\n",
       "    <tr style=\"text-align: right;\">\n",
       "      <th></th>\n",
       "      <th>points</th>\n",
       "    </tr>\n",
       "    <tr>\n",
       "      <th>points</th>\n",
       "      <th></th>\n",
       "    </tr>\n",
       "  </thead>\n",
       "  <tbody>\n",
       "    <tr>\n",
       "      <th>(0, 10]</th>\n",
       "      <td>0</td>\n",
       "    </tr>\n",
       "    <tr>\n",
       "      <th>(10, 50]</th>\n",
       "      <td>0</td>\n",
       "    </tr>\n",
       "    <tr>\n",
       "      <th>(50, 100]</th>\n",
       "      <td>0</td>\n",
       "    </tr>\n",
       "    <tr>\n",
       "      <th>(100, 500]</th>\n",
       "      <td>1</td>\n",
       "    </tr>\n",
       "    <tr>\n",
       "      <th>(500, 1000]</th>\n",
       "      <td>0</td>\n",
       "    </tr>\n",
       "    <tr>\n",
       "      <th>(1000, 2000]</th>\n",
       "      <td>1</td>\n",
       "    </tr>\n",
       "    <tr>\n",
       "      <th>(2000, 3000]</th>\n",
       "      <td>1</td>\n",
       "    </tr>\n",
       "    <tr>\n",
       "      <th>(3000, 4000]</th>\n",
       "      <td>1</td>\n",
       "    </tr>\n",
       "    <tr>\n",
       "      <th>(4000, 5000]</th>\n",
       "      <td>1</td>\n",
       "    </tr>\n",
       "    <tr>\n",
       "      <th>(5000, 10000]</th>\n",
       "      <td>6</td>\n",
       "    </tr>\n",
       "    <tr>\n",
       "      <th>(10000, 50000]</th>\n",
       "      <td>5</td>\n",
       "    </tr>\n",
       "  </tbody>\n",
       "</table>\n",
       "</div>"
      ],
      "text/plain": [
       "                points\n",
       "points                \n",
       "(0, 10]              0\n",
       "(10, 50]             0\n",
       "(50, 100]            0\n",
       "(100, 500]           1\n",
       "(500, 1000]          0\n",
       "(1000, 2000]         1\n",
       "(2000, 3000]         1\n",
       "(3000, 4000]         1\n",
       "(4000, 5000]         1\n",
       "(5000, 10000]        6\n",
       "(10000, 50000]       5"
      ]
     },
     "execution_count": 39,
     "metadata": {},
     "output_type": "execute_result"
    }
   ],
   "source": [
    "aux = df.groupby(by = 'mmsi').size().to_frame('points').reset_index()\n",
    "aux.drop(columns = 'mmsi').groupby(pd.cut(aux.points, bins)).count()"
   ]
  },
  {
   "cell_type": "code",
   "execution_count": 40,
   "id": "fa7da88b-5fc5-4916-97d3-3ddc24c47b2c",
   "metadata": {
    "id": "fa7da88b-5fc5-4916-97d3-3ddc24c47b2c",
    "outputId": "c5247add-08e3-4f3d-ef86-e6cdcaacf558"
   },
   "outputs": [
    {
     "data": {
      "text/plain": [
       "[]"
      ]
     },
     "execution_count": 40,
     "metadata": {},
     "output_type": "execute_result"
    }
   ],
   "source": [
    "aux.loc[aux.points<=min_points]['mmsi'].tolist()"
   ]
  },
  {
   "cell_type": "code",
   "execution_count": 41,
   "id": "d69dea19-96d6-4bd9-9e54-be023a2cba10",
   "metadata": {
    "id": "d69dea19-96d6-4bd9-9e54-be023a2cba10",
    "outputId": "56623a08-5ba0-471b-859b-59f51e7d6cbc"
   },
   "outputs": [
    {
     "data": {
      "text/plain": [
       "210929"
      ]
     },
     "execution_count": 41,
     "metadata": {},
     "output_type": "execute_result"
    }
   ],
   "source": [
    "df = df.loc[~df.mmsi.isin(aux.loc[aux.points<=min_points]['mmsi'].tolist())]\n",
    "len(df)"
   ]
  },
  {
   "cell_type": "markdown",
   "id": "6ddfb9a7",
   "metadata": {},
   "source": [
    "# df_aux creation and Save"
   ]
  },
  {
   "cell_type": "code",
   "execution_count": 42,
   "id": "b8e390bd",
   "metadata": {},
   "outputs": [
    {
     "data": {
      "text/plain": [
       "210929"
      ]
     },
     "execution_count": 42,
     "metadata": {},
     "output_type": "execute_result"
    }
   ],
   "source": [
    "df_aux1 = pd.merge(df, dfAs, on=['mmsi','day'], how='inner')\n",
    "len(df)"
   ]
  },
  {
   "cell_type": "code",
   "execution_count": 45,
   "id": "fcfa3a89",
   "metadata": {},
   "outputs": [],
   "source": [
    "df_aux1.to_csv(projPath_save_test + month + darsena +'_df_aux1_test.csv', index = False, columns = ['time_stamp','mmsi','status','turn','speed','lon','lat','course','heading', 'day', 'index','shipname','shiptype','draught','to_bow','to_stern', 'to_starboard','to_port', 'imo'])"
   ]
  },
  {
   "cell_type": "markdown",
   "id": "d7eb2bb5-f075-48df-9270-0cc8b43e7d80",
   "metadata": {
    "id": "d7eb2bb5-f075-48df-9270-0cc8b43e7d80"
   },
   "source": [
    "# Save data"
   ]
  },
  {
   "cell_type": "code",
   "execution_count": 46,
   "id": "0a1bd669-df56-4bab-8ba5-de931be679a2",
   "metadata": {
    "id": "0a1bd669-df56-4bab-8ba5-de931be679a2",
    "outputId": "2bc824e7-b6d1-4004-8d63-7ebde606d922"
   },
   "outputs": [
    {
     "data": {
      "text/html": [
       "<div>\n",
       "<style scoped>\n",
       "    .dataframe tbody tr th:only-of-type {\n",
       "        vertical-align: middle;\n",
       "    }\n",
       "\n",
       "    .dataframe tbody tr th {\n",
       "        vertical-align: top;\n",
       "    }\n",
       "\n",
       "    .dataframe thead th {\n",
       "        text-align: right;\n",
       "    }\n",
       "</style>\n",
       "<table border=\"1\" class=\"dataframe\">\n",
       "  <thead>\n",
       "    <tr style=\"text-align: right;\">\n",
       "      <th></th>\n",
       "      <th>time_stamp</th>\n",
       "      <th>mmsi</th>\n",
       "      <th>status</th>\n",
       "      <th>turn</th>\n",
       "      <th>speed</th>\n",
       "      <th>lon</th>\n",
       "      <th>lat</th>\n",
       "      <th>course</th>\n",
       "      <th>heading</th>\n",
       "      <th>day</th>\n",
       "    </tr>\n",
       "  </thead>\n",
       "  <tbody>\n",
       "    <tr>\n",
       "      <th>0</th>\n",
       "      <td>2022-06-01 00:00:06</td>\n",
       "      <td>224878000</td>\n",
       "      <td>0</td>\n",
       "      <td>NaN</td>\n",
       "      <td>0.0</td>\n",
       "      <td>2.17964</td>\n",
       "      <td>41.36394</td>\n",
       "      <td>238.2</td>\n",
       "      <td>NaN</td>\n",
       "      <td>2022-06-01</td>\n",
       "    </tr>\n",
       "    <tr>\n",
       "      <th>1</th>\n",
       "      <td>2022-06-01 00:00:16</td>\n",
       "      <td>224878000</td>\n",
       "      <td>0</td>\n",
       "      <td>NaN</td>\n",
       "      <td>0.0</td>\n",
       "      <td>2.17964</td>\n",
       "      <td>41.36394</td>\n",
       "      <td>238.2</td>\n",
       "      <td>NaN</td>\n",
       "      <td>2022-06-01</td>\n",
       "    </tr>\n",
       "    <tr>\n",
       "      <th>2</th>\n",
       "      <td>2022-06-01 00:00:27</td>\n",
       "      <td>224878000</td>\n",
       "      <td>0</td>\n",
       "      <td>NaN</td>\n",
       "      <td>0.0</td>\n",
       "      <td>2.17964</td>\n",
       "      <td>41.36393</td>\n",
       "      <td>238.2</td>\n",
       "      <td>NaN</td>\n",
       "      <td>2022-06-01</td>\n",
       "    </tr>\n",
       "    <tr>\n",
       "      <th>3</th>\n",
       "      <td>2022-06-01 00:00:37</td>\n",
       "      <td>224878000</td>\n",
       "      <td>0</td>\n",
       "      <td>NaN</td>\n",
       "      <td>0.0</td>\n",
       "      <td>2.17964</td>\n",
       "      <td>41.36393</td>\n",
       "      <td>238.2</td>\n",
       "      <td>NaN</td>\n",
       "      <td>2022-06-01</td>\n",
       "    </tr>\n",
       "    <tr>\n",
       "      <th>4</th>\n",
       "      <td>2022-06-01 00:00:47</td>\n",
       "      <td>224878000</td>\n",
       "      <td>0</td>\n",
       "      <td>NaN</td>\n",
       "      <td>0.0</td>\n",
       "      <td>2.17964</td>\n",
       "      <td>41.36393</td>\n",
       "      <td>238.2</td>\n",
       "      <td>NaN</td>\n",
       "      <td>2022-06-01</td>\n",
       "    </tr>\n",
       "  </tbody>\n",
       "</table>\n",
       "</div>"
      ],
      "text/plain": [
       "           time_stamp       mmsi  status  turn  speed      lon       lat  \\\n",
       "0 2022-06-01 00:00:06  224878000       0   NaN    0.0  2.17964  41.36394   \n",
       "1 2022-06-01 00:00:16  224878000       0   NaN    0.0  2.17964  41.36394   \n",
       "2 2022-06-01 00:00:27  224878000       0   NaN    0.0  2.17964  41.36393   \n",
       "3 2022-06-01 00:00:37  224878000       0   NaN    0.0  2.17964  41.36393   \n",
       "4 2022-06-01 00:00:47  224878000       0   NaN    0.0  2.17964  41.36393   \n",
       "\n",
       "   course  heading         day  \n",
       "0   238.2      NaN  2022-06-01  \n",
       "1   238.2      NaN  2022-06-01  \n",
       "2   238.2      NaN  2022-06-01  \n",
       "3   238.2      NaN  2022-06-01  \n",
       "4   238.2      NaN  2022-06-01  "
      ]
     },
     "execution_count": 46,
     "metadata": {},
     "output_type": "execute_result"
    }
   ],
   "source": [
    "df.head()"
   ]
  },
  {
   "cell_type": "code",
   "execution_count": 61,
   "id": "c4c86a8a-6ea4-4e85-bd22-b3b3d64cbc41",
   "metadata": {
    "id": "c4c86a8a-6ea4-4e85-bd22-b3b3d64cbc41"
   },
   "outputs": [],
   "source": [
    "df.to_csv(projPath_save + month + darsena +'.csv', index = False, columns = ['time_stamp','mmsi','status','turn','speed','lon','lat','course','heading'])"
   ]
  },
  {
   "cell_type": "markdown",
   "id": "abe468a0-425e-4e3b-af44-3be67958081b",
   "metadata": {
    "id": "abe468a0-425e-4e3b-af44-3be67958081b"
   },
   "source": [
    "# Plot "
   ]
  },
  {
   "cell_type": "markdown",
   "id": "ad381e8d-38a8-4a93-80e5-50921e7f2400",
   "metadata": {
    "id": "ad381e8d-38a8-4a93-80e5-50921e7f2400"
   },
   "source": [
    "## Join static messages "
   ]
  },
  {
   "cell_type": "code",
   "execution_count": 50,
   "id": "93424147-5949-4edd-8c1d-a92046f5df84",
   "metadata": {
    "id": "93424147-5949-4edd-8c1d-a92046f5df84",
    "outputId": "b5256575-8688-4471-cc02-9c41f6e49970"
   },
   "outputs": [
    {
     "data": {
      "text/plain": [
       "210929"
      ]
     },
     "execution_count": 50,
     "metadata": {},
     "output_type": "execute_result"
    }
   ],
   "source": [
    "df_aux = pd.merge(df, dfAs, on=['mmsi','day'], how='inner')\n",
    "len(df)"
   ]
  },
  {
   "cell_type": "code",
   "execution_count": 51,
   "id": "3a0f7551-9d1e-4197-aaca-a275a5285b4c",
   "metadata": {
    "id": "3a0f7551-9d1e-4197-aaca-a275a5285b4c",
    "outputId": "b0438070-cc71-4dd5-ed28-411f42553a88"
   },
   "outputs": [
    {
     "data": {
      "text/html": [
       "<div>\n",
       "<style scoped>\n",
       "    .dataframe tbody tr th:only-of-type {\n",
       "        vertical-align: middle;\n",
       "    }\n",
       "\n",
       "    .dataframe tbody tr th {\n",
       "        vertical-align: top;\n",
       "    }\n",
       "\n",
       "    .dataframe thead th {\n",
       "        text-align: right;\n",
       "    }\n",
       "</style>\n",
       "<table border=\"1\" class=\"dataframe\">\n",
       "  <thead>\n",
       "    <tr style=\"text-align: right;\">\n",
       "      <th></th>\n",
       "      <th>time_stamp</th>\n",
       "      <th>mmsi</th>\n",
       "      <th>status</th>\n",
       "      <th>turn</th>\n",
       "      <th>speed</th>\n",
       "      <th>lon</th>\n",
       "      <th>lat</th>\n",
       "      <th>course</th>\n",
       "      <th>heading</th>\n",
       "      <th>day</th>\n",
       "      <th>index</th>\n",
       "      <th>shipname</th>\n",
       "      <th>shiptype</th>\n",
       "      <th>draught</th>\n",
       "      <th>to_bow</th>\n",
       "      <th>to_stern</th>\n",
       "      <th>to_starboard</th>\n",
       "      <th>to_port</th>\n",
       "      <th>imo</th>\n",
       "    </tr>\n",
       "  </thead>\n",
       "  <tbody>\n",
       "    <tr>\n",
       "      <th>0</th>\n",
       "      <td>2022-06-01 00:00:06</td>\n",
       "      <td>224878000</td>\n",
       "      <td>0</td>\n",
       "      <td>NaN</td>\n",
       "      <td>0.0</td>\n",
       "      <td>2.17964</td>\n",
       "      <td>41.36394</td>\n",
       "      <td>238.2</td>\n",
       "      <td>NaN</td>\n",
       "      <td>2022-06-01</td>\n",
       "      <td>836</td>\n",
       "      <td>SPABUNKER 41</td>\n",
       "      <td>89</td>\n",
       "      <td>5.5</td>\n",
       "      <td>1.0</td>\n",
       "      <td>1.0</td>\n",
       "      <td>3.0</td>\n",
       "      <td>2.0</td>\n",
       "      <td>9127382</td>\n",
       "    </tr>\n",
       "    <tr>\n",
       "      <th>1</th>\n",
       "      <td>2022-06-01 00:00:16</td>\n",
       "      <td>224878000</td>\n",
       "      <td>0</td>\n",
       "      <td>NaN</td>\n",
       "      <td>0.0</td>\n",
       "      <td>2.17964</td>\n",
       "      <td>41.36394</td>\n",
       "      <td>238.2</td>\n",
       "      <td>NaN</td>\n",
       "      <td>2022-06-01</td>\n",
       "      <td>836</td>\n",
       "      <td>SPABUNKER 41</td>\n",
       "      <td>89</td>\n",
       "      <td>5.5</td>\n",
       "      <td>1.0</td>\n",
       "      <td>1.0</td>\n",
       "      <td>3.0</td>\n",
       "      <td>2.0</td>\n",
       "      <td>9127382</td>\n",
       "    </tr>\n",
       "    <tr>\n",
       "      <th>2</th>\n",
       "      <td>2022-06-01 00:00:27</td>\n",
       "      <td>224878000</td>\n",
       "      <td>0</td>\n",
       "      <td>NaN</td>\n",
       "      <td>0.0</td>\n",
       "      <td>2.17964</td>\n",
       "      <td>41.36393</td>\n",
       "      <td>238.2</td>\n",
       "      <td>NaN</td>\n",
       "      <td>2022-06-01</td>\n",
       "      <td>836</td>\n",
       "      <td>SPABUNKER 41</td>\n",
       "      <td>89</td>\n",
       "      <td>5.5</td>\n",
       "      <td>1.0</td>\n",
       "      <td>1.0</td>\n",
       "      <td>3.0</td>\n",
       "      <td>2.0</td>\n",
       "      <td>9127382</td>\n",
       "    </tr>\n",
       "    <tr>\n",
       "      <th>3</th>\n",
       "      <td>2022-06-01 00:00:37</td>\n",
       "      <td>224878000</td>\n",
       "      <td>0</td>\n",
       "      <td>NaN</td>\n",
       "      <td>0.0</td>\n",
       "      <td>2.17964</td>\n",
       "      <td>41.36393</td>\n",
       "      <td>238.2</td>\n",
       "      <td>NaN</td>\n",
       "      <td>2022-06-01</td>\n",
       "      <td>836</td>\n",
       "      <td>SPABUNKER 41</td>\n",
       "      <td>89</td>\n",
       "      <td>5.5</td>\n",
       "      <td>1.0</td>\n",
       "      <td>1.0</td>\n",
       "      <td>3.0</td>\n",
       "      <td>2.0</td>\n",
       "      <td>9127382</td>\n",
       "    </tr>\n",
       "    <tr>\n",
       "      <th>4</th>\n",
       "      <td>2022-06-01 00:00:47</td>\n",
       "      <td>224878000</td>\n",
       "      <td>0</td>\n",
       "      <td>NaN</td>\n",
       "      <td>0.0</td>\n",
       "      <td>2.17964</td>\n",
       "      <td>41.36393</td>\n",
       "      <td>238.2</td>\n",
       "      <td>NaN</td>\n",
       "      <td>2022-06-01</td>\n",
       "      <td>836</td>\n",
       "      <td>SPABUNKER 41</td>\n",
       "      <td>89</td>\n",
       "      <td>5.5</td>\n",
       "      <td>1.0</td>\n",
       "      <td>1.0</td>\n",
       "      <td>3.0</td>\n",
       "      <td>2.0</td>\n",
       "      <td>9127382</td>\n",
       "    </tr>\n",
       "  </tbody>\n",
       "</table>\n",
       "</div>"
      ],
      "text/plain": [
       "           time_stamp       mmsi  status  turn  speed      lon       lat  \\\n",
       "0 2022-06-01 00:00:06  224878000       0   NaN    0.0  2.17964  41.36394   \n",
       "1 2022-06-01 00:00:16  224878000       0   NaN    0.0  2.17964  41.36394   \n",
       "2 2022-06-01 00:00:27  224878000       0   NaN    0.0  2.17964  41.36393   \n",
       "3 2022-06-01 00:00:37  224878000       0   NaN    0.0  2.17964  41.36393   \n",
       "4 2022-06-01 00:00:47  224878000       0   NaN    0.0  2.17964  41.36393   \n",
       "\n",
       "   course  heading         day  index              shipname  shiptype  \\\n",
       "0   238.2      NaN  2022-06-01    836  SPABUNKER 41                89   \n",
       "1   238.2      NaN  2022-06-01    836  SPABUNKER 41                89   \n",
       "2   238.2      NaN  2022-06-01    836  SPABUNKER 41                89   \n",
       "3   238.2      NaN  2022-06-01    836  SPABUNKER 41                89   \n",
       "4   238.2      NaN  2022-06-01    836  SPABUNKER 41                89   \n",
       "\n",
       "   draught  to_bow  to_stern  to_starboard  to_port      imo  \n",
       "0      5.5     1.0       1.0           3.0      2.0  9127382  \n",
       "1      5.5     1.0       1.0           3.0      2.0  9127382  \n",
       "2      5.5     1.0       1.0           3.0      2.0  9127382  \n",
       "3      5.5     1.0       1.0           3.0      2.0  9127382  \n",
       "4      5.5     1.0       1.0           3.0      2.0  9127382  "
      ]
     },
     "execution_count": 51,
     "metadata": {},
     "output_type": "execute_result"
    }
   ],
   "source": [
    "df_aux.head()"
   ]
  },
  {
   "cell_type": "code",
   "execution_count": 52,
   "id": "4ffdf5e7-87e0-42a4-8957-784d1e51c2c6",
   "metadata": {
    "id": "4ffdf5e7-87e0-42a4-8957-784d1e51c2c6",
    "outputId": "8a9f987e-dca0-4115-9f3e-d248e6e7cd50"
   },
   "outputs": [
    {
     "data": {
      "text/plain": [
       "<AxesSubplot:xlabel='lon', ylabel='lat'>"
      ]
     },
     "execution_count": 52,
     "metadata": {},
     "output_type": "execute_result"
    },
    {
     "data": {
      "image/png": "[encoded data removed]",
      "text/plain": [
       "<Figure size 432x288 with 1 Axes>"
      ]
     },
     "metadata": {
      "needs_background": "light"
     },
     "output_type": "display_data"
    }
   ],
   "source": [
    "fig, ax = plt.subplots()\n",
    "dm_map.plot(ax = ax, fc = 'none')\n",
    "sns.scatterplot(data = df_aux, x = 'lon',y = 'lat', s = 1, hue = 'shiptype', palette = 'hsv')"
   ]
  },
  {
   "cell_type": "markdown",
   "id": "ca951679-ee8c-4b0f-86d8-63d42efbb363",
   "metadata": {
    "id": "ca951679-ee8c-4b0f-86d8-63d42efbb363"
   },
   "source": [
    "# Statistics"
   ]
  },
  {
   "cell_type": "markdown",
   "id": "31e7c1f8-6860-4ccd-866d-2ea8e28a9196",
   "metadata": {
    "id": "31e7c1f8-6860-4ccd-866d-2ea8e28a9196"
   },
   "source": [
    "## Points "
   ]
  },
  {
   "cell_type": "code",
   "execution_count": 53,
   "id": "b6ae53f9-543c-47ac-b1ae-6f0bc48ee341",
   "metadata": {
    "id": "b6ae53f9-543c-47ac-b1ae-6f0bc48ee341"
   },
   "outputs": [],
   "source": [
    "bins = [0,9,19,29,39,49,59,69,79,89,99]"
   ]
  },
  {
   "cell_type": "code",
   "execution_count": 54,
   "id": "8d8a01c8-7330-4064-9a17-bcf927133854",
   "metadata": {
    "id": "8d8a01c8-7330-4064-9a17-bcf927133854",
    "outputId": "1f141032-262a-498e-caab-75ab8be2a9ef"
   },
   "outputs": [
    {
     "data": {
      "text/plain": [
       "(-0.001, 9.0]         0\n",
       "(9.0, 19.0]           0\n",
       "(19.0, 29.0]          0\n",
       "(29.0, 39.0]          0\n",
       "(39.0, 49.0]          0\n",
       "(49.0, 59.0]      47017\n",
       "(59.0, 69.0]      25091\n",
       "(69.0, 79.0]      31424\n",
       "(79.0, 89.0]     107397\n",
       "(89.0, 99.0]          0\n",
       "Name: shiptype, dtype: int64"
      ]
     },
     "execution_count": 54,
     "metadata": {},
     "output_type": "execute_result"
    }
   ],
   "source": [
    "df_aux['shiptype'].value_counts(bins = bins, sort = False)"
   ]
  },
  {
   "cell_type": "code",
   "execution_count": 55,
   "id": "f67e345d-9edc-41f7-88f8-237c3118340a",
   "metadata": {
    "id": "f67e345d-9edc-41f7-88f8-237c3118340a",
    "outputId": "c0484297-9a00-45a1-95c7-c7bf4272c2a9"
   },
   "outputs": [
    {
     "data": {
      "text/plain": [
       "array([<AxesSubplot:title={'center':'shiptype'}>], dtype=object)"
      ]
     },
     "execution_count": 55,
     "metadata": {},
     "output_type": "execute_result"
    },
    {
     "data": {
      "image/png": "[encoded data removed]",
      "text/plain": [
       "<Figure size 432x288 with 1 Axes>"
      ]
     },
     "metadata": {
      "needs_background": "light"
     },
     "output_type": "display_data"
    }
   ],
   "source": [
    "fig,ax = plt.subplots()\n",
    "df_aux.hist(ax = ax, column = 'shiptype', bins = np.linspace(0,100,11), edgecolor = 'k', grid = False)"
   ]
  },
  {
   "cell_type": "markdown",
   "id": "01f08f1a-0782-431c-8591-e1b78027fe85",
   "metadata": {
    "id": "01f08f1a-0782-431c-8591-e1b78027fe85"
   },
   "source": [
    "## MMSI's "
   ]
  },
  {
   "cell_type": "code",
   "execution_count": 56,
   "id": "a2bd0274-9462-44dd-b4db-5312d2feecd5",
   "metadata": {
    "id": "a2bd0274-9462-44dd-b4db-5312d2feecd5"
   },
   "outputs": [],
   "source": [
    "aux = df_aux.drop_duplicates(subset = 'mmsi')"
   ]
  },
  {
   "cell_type": "code",
   "execution_count": 57,
   "id": "7173b887-6886-4185-a95c-015367f9e233",
   "metadata": {
    "id": "7173b887-6886-4185-a95c-015367f9e233",
    "outputId": "df8647a2-b2e1-44a5-9173-b8f69d58106d"
   },
   "outputs": [
    {
     "data": {
      "text/html": [
       "<div>\n",
       "<style scoped>\n",
       "    .dataframe tbody tr th:only-of-type {\n",
       "        vertical-align: middle;\n",
       "    }\n",
       "\n",
       "    .dataframe tbody tr th {\n",
       "        vertical-align: top;\n",
       "    }\n",
       "\n",
       "    .dataframe thead th {\n",
       "        text-align: right;\n",
       "    }\n",
       "</style>\n",
       "<table border=\"1\" class=\"dataframe\">\n",
       "  <thead>\n",
       "    <tr style=\"text-align: right;\">\n",
       "      <th></th>\n",
       "      <th>mmsi</th>\n",
       "      <th>shiptype</th>\n",
       "    </tr>\n",
       "  </thead>\n",
       "  <tbody>\n",
       "    <tr>\n",
       "      <th>1217</th>\n",
       "      <td>225994881</td>\n",
       "      <td>50</td>\n",
       "    </tr>\n",
       "    <tr>\n",
       "      <th>1821</th>\n",
       "      <td>224551570</td>\n",
       "      <td>50</td>\n",
       "    </tr>\n",
       "    <tr>\n",
       "      <th>7680</th>\n",
       "      <td>225988173</td>\n",
       "      <td>50</td>\n",
       "    </tr>\n",
       "    <tr>\n",
       "      <th>9456</th>\n",
       "      <td>224304570</td>\n",
       "      <td>50</td>\n",
       "    </tr>\n",
       "    <tr>\n",
       "      <th>8541</th>\n",
       "      <td>225980532</td>\n",
       "      <td>50</td>\n",
       "    </tr>\n",
       "    <tr>\n",
       "      <th>15812</th>\n",
       "      <td>225987163</td>\n",
       "      <td>54</td>\n",
       "    </tr>\n",
       "    <tr>\n",
       "      <th>7905</th>\n",
       "      <td>247243600</td>\n",
       "      <td>60</td>\n",
       "    </tr>\n",
       "    <tr>\n",
       "      <th>40726</th>\n",
       "      <td>209115000</td>\n",
       "      <td>60</td>\n",
       "    </tr>\n",
       "    <tr>\n",
       "      <th>2691</th>\n",
       "      <td>247219400</td>\n",
       "      <td>60</td>\n",
       "    </tr>\n",
       "    <tr>\n",
       "      <th>24225</th>\n",
       "      <td>247383300</td>\n",
       "      <td>71</td>\n",
       "    </tr>\n",
       "    <tr>\n",
       "      <th>151890</th>\n",
       "      <td>210117000</td>\n",
       "      <td>71</td>\n",
       "    </tr>\n",
       "    <tr>\n",
       "      <th>5181</th>\n",
       "      <td>247383400</td>\n",
       "      <td>71</td>\n",
       "    </tr>\n",
       "    <tr>\n",
       "      <th>2058</th>\n",
       "      <td>247383600</td>\n",
       "      <td>71</td>\n",
       "    </tr>\n",
       "    <tr>\n",
       "      <th>746</th>\n",
       "      <td>247383500</td>\n",
       "      <td>74</td>\n",
       "    </tr>\n",
       "    <tr>\n",
       "      <th>9699</th>\n",
       "      <td>224142890</td>\n",
       "      <td>80</td>\n",
       "    </tr>\n",
       "    <tr>\n",
       "      <th>114023</th>\n",
       "      <td>224296000</td>\n",
       "      <td>80</td>\n",
       "    </tr>\n",
       "    <tr>\n",
       "      <th>0</th>\n",
       "      <td>224878000</td>\n",
       "      <td>89</td>\n",
       "    </tr>\n",
       "  </tbody>\n",
       "</table>\n",
       "</div>"
      ],
      "text/plain": [
       "             mmsi  shiptype\n",
       "1217    225994881        50\n",
       "1821    224551570        50\n",
       "7680    225988173        50\n",
       "9456    224304570        50\n",
       "8541    225980532        50\n",
       "15812   225987163        54\n",
       "7905    247243600        60\n",
       "40726   209115000        60\n",
       "2691    247219400        60\n",
       "24225   247383300        71\n",
       "151890  210117000        71\n",
       "5181    247383400        71\n",
       "2058    247383600        71\n",
       "746     247383500        74\n",
       "9699    224142890        80\n",
       "114023  224296000        80\n",
       "0       224878000        89"
      ]
     },
     "execution_count": 57,
     "metadata": {},
     "output_type": "execute_result"
    }
   ],
   "source": [
    "aux[['mmsi','shiptype']].sort_values(by = 'shiptype')"
   ]
  },
  {
   "cell_type": "code",
   "execution_count": 58,
   "id": "bdda4b3c-a063-4e2f-992f-115323f168d3",
   "metadata": {
    "id": "bdda4b3c-a063-4e2f-992f-115323f168d3",
    "outputId": "1653dd41-50de-4511-9199-fa79b3ac85c2"
   },
   "outputs": [
    {
     "data": {
      "text/plain": [
       "(-0.001, 9.0]    0\n",
       "(9.0, 19.0]      0\n",
       "(19.0, 29.0]     0\n",
       "(29.0, 39.0]     0\n",
       "(39.0, 49.0]     0\n",
       "(49.0, 59.0]     6\n",
       "(59.0, 69.0]     3\n",
       "(69.0, 79.0]     5\n",
       "(79.0, 89.0]     3\n",
       "(89.0, 99.0]     0\n",
       "Name: shiptype, dtype: int64"
      ]
     },
     "execution_count": 58,
     "metadata": {},
     "output_type": "execute_result"
    }
   ],
   "source": [
    "aux['shiptype'].value_counts(bins = bins, sort = False)"
   ]
  },
  {
   "cell_type": "code",
   "execution_count": 59,
   "id": "971715b7-515f-4016-83c5-cb5e2b0cad84",
   "metadata": {
    "id": "971715b7-515f-4016-83c5-cb5e2b0cad84",
    "outputId": "40131325-ae7a-4bed-c9ca-771971cf4b24"
   },
   "outputs": [
    {
     "data": {
      "text/plain": [
       "array([<AxesSubplot:title={'center':'shiptype'}>], dtype=object)"
      ]
     },
     "execution_count": 59,
     "metadata": {},
     "output_type": "execute_result"
    },
    {
     "data": {
      "image/png": "[encoded data removed]",
      "text/plain": [
       "<Figure size 432x288 with 1 Axes>"
      ]
     },
     "metadata": {
      "needs_background": "light"
     },
     "output_type": "display_data"
    }
   ],
   "source": [
    "fig,ax = plt.subplots()\n",
    "aux.hist(ax = ax, column = 'shiptype', bins = np.linspace(0,100,11), edgecolor = 'k', grid = False)"
   ]
  },
  {
   "cell_type": "markdown",
   "id": "8a2855a1",
   "metadata": {
    "id": "48fab592-2f2e-4f2b-bace-90fd57603939"
   },
   "source": [
    "# COMPARE"
   ]
  },
  {
   "cell_type": "code",
   "execution_count": 44,
   "id": "6a0b71c7",
   "metadata": {},
   "outputs": [],
   "source": [
    "df_auxt = pd.read_csv('/home/alvaro/notebook/jupyterenv/bin/TFM/22-23_Maniobres-20221022T161922Z-001/22-23_Maniobres/data/interim/202206_DM_df_aux.csv')"
   ]
  },
  {
   "cell_type": "code",
   "execution_count": 45,
   "id": "79fbf8ab",
   "metadata": {},
   "outputs": [
    {
     "data": {
      "text/plain": [
       "(210929, 19)"
      ]
     },
     "execution_count": 45,
     "metadata": {},
     "output_type": "execute_result"
    }
   ],
   "source": [
    "df_aux1.shape"
   ]
  },
  {
   "cell_type": "code",
   "execution_count": 46,
   "id": "61c16473",
   "metadata": {},
   "outputs": [
    {
     "data": {
      "text/plain": [
       "(210929, 19)"
      ]
     },
     "execution_count": 46,
     "metadata": {},
     "output_type": "execute_result"
    }
   ],
   "source": [
    "df_auxt.shape"
   ]
  },
  {
   "cell_type": "code",
   "execution_count": 47,
   "id": "f794a684",
   "metadata": {},
   "outputs": [
    {
     "data": {
      "text/plain": [
       "False"
      ]
     },
     "execution_count": 47,
     "metadata": {},
     "output_type": "execute_result"
    }
   ],
   "source": [
    "df_aux1.equals(df_auxt)"
   ]
  },
  {
   "cell_type": "code",
   "execution_count": 48,
   "id": "6ef420ef",
   "metadata": {},
   "outputs": [
    {
     "data": {
      "text/plain": [
       "False"
      ]
     },
     "execution_count": 48,
     "metadata": {},
     "output_type": "execute_result"
    }
   ],
   "source": [
    "df_auxt.equals(df_aux1)"
   ]
  },
  {
   "cell_type": "code",
   "execution_count": 49,
   "id": "16e8d868",
   "metadata": {},
   "outputs": [
    {
     "data": {
      "text/html": [
       "<div>\n",
       "<style scoped>\n",
       "    .dataframe tbody tr th:only-of-type {\n",
       "        vertical-align: middle;\n",
       "    }\n",
       "\n",
       "    .dataframe tbody tr th {\n",
       "        vertical-align: top;\n",
       "    }\n",
       "\n",
       "    .dataframe thead tr th {\n",
       "        text-align: left;\n",
       "    }\n",
       "</style>\n",
       "<table border=\"1\" class=\"dataframe\">\n",
       "  <thead>\n",
       "    <tr>\n",
       "      <th></th>\n",
       "      <th colspan=\"2\" halign=\"left\">time_stamp</th>\n",
       "      <th colspan=\"2\" halign=\"left\">lon</th>\n",
       "      <th colspan=\"2\" halign=\"left\">lat</th>\n",
       "      <th colspan=\"2\" halign=\"left\">day</th>\n",
       "    </tr>\n",
       "    <tr>\n",
       "      <th></th>\n",
       "      <th>self</th>\n",
       "      <th>other</th>\n",
       "      <th>self</th>\n",
       "      <th>other</th>\n",
       "      <th>self</th>\n",
       "      <th>other</th>\n",
       "      <th>self</th>\n",
       "      <th>other</th>\n",
       "    </tr>\n",
       "  </thead>\n",
       "  <tbody>\n",
       "    <tr>\n",
       "      <th>0</th>\n",
       "      <td>2022-06-01 00:00:06</td>\n",
       "      <td>2022-06-01 00:00:06</td>\n",
       "      <td>NaN</td>\n",
       "      <td>NaN</td>\n",
       "      <td>NaN</td>\n",
       "      <td>NaN</td>\n",
       "      <td>2022-06-01</td>\n",
       "      <td>2022-06-01</td>\n",
       "    </tr>\n",
       "    <tr>\n",
       "      <th>1</th>\n",
       "      <td>2022-06-01 00:00:16</td>\n",
       "      <td>2022-06-01 00:00:16</td>\n",
       "      <td>NaN</td>\n",
       "      <td>NaN</td>\n",
       "      <td>NaN</td>\n",
       "      <td>NaN</td>\n",
       "      <td>2022-06-01</td>\n",
       "      <td>2022-06-01</td>\n",
       "    </tr>\n",
       "    <tr>\n",
       "      <th>2</th>\n",
       "      <td>2022-06-01 00:00:27</td>\n",
       "      <td>2022-06-01 00:00:27</td>\n",
       "      <td>NaN</td>\n",
       "      <td>NaN</td>\n",
       "      <td>41.36393</td>\n",
       "      <td>41.36393</td>\n",
       "      <td>2022-06-01</td>\n",
       "      <td>2022-06-01</td>\n",
       "    </tr>\n",
       "    <tr>\n",
       "      <th>3</th>\n",
       "      <td>2022-06-01 00:00:37</td>\n",
       "      <td>2022-06-01 00:00:37</td>\n",
       "      <td>NaN</td>\n",
       "      <td>NaN</td>\n",
       "      <td>41.36393</td>\n",
       "      <td>41.36393</td>\n",
       "      <td>2022-06-01</td>\n",
       "      <td>2022-06-01</td>\n",
       "    </tr>\n",
       "    <tr>\n",
       "      <th>4</th>\n",
       "      <td>2022-06-01 00:00:47</td>\n",
       "      <td>2022-06-01 00:00:47</td>\n",
       "      <td>NaN</td>\n",
       "      <td>NaN</td>\n",
       "      <td>41.36393</td>\n",
       "      <td>41.36393</td>\n",
       "      <td>2022-06-01</td>\n",
       "      <td>2022-06-01</td>\n",
       "    </tr>\n",
       "    <tr>\n",
       "      <th>...</th>\n",
       "      <td>...</td>\n",
       "      <td>...</td>\n",
       "      <td>...</td>\n",
       "      <td>...</td>\n",
       "      <td>...</td>\n",
       "      <td>...</td>\n",
       "      <td>...</td>\n",
       "      <td>...</td>\n",
       "    </tr>\n",
       "    <tr>\n",
       "      <th>210924</th>\n",
       "      <td>2022-06-30 21:44:27</td>\n",
       "      <td>2022-06-30 21:44:27</td>\n",
       "      <td>NaN</td>\n",
       "      <td>NaN</td>\n",
       "      <td>41.36021</td>\n",
       "      <td>41.36021</td>\n",
       "      <td>2022-06-30</td>\n",
       "      <td>2022-06-30</td>\n",
       "    </tr>\n",
       "    <tr>\n",
       "      <th>210925</th>\n",
       "      <td>2022-06-30 21:44:35</td>\n",
       "      <td>2022-06-30 21:44:35</td>\n",
       "      <td>NaN</td>\n",
       "      <td>NaN</td>\n",
       "      <td>NaN</td>\n",
       "      <td>NaN</td>\n",
       "      <td>2022-06-30</td>\n",
       "      <td>2022-06-30</td>\n",
       "    </tr>\n",
       "    <tr>\n",
       "      <th>210926</th>\n",
       "      <td>2022-06-30 21:44:45</td>\n",
       "      <td>2022-06-30 21:44:45</td>\n",
       "      <td>2.17763</td>\n",
       "      <td>2.17763</td>\n",
       "      <td>NaN</td>\n",
       "      <td>NaN</td>\n",
       "      <td>2022-06-30</td>\n",
       "      <td>2022-06-30</td>\n",
       "    </tr>\n",
       "    <tr>\n",
       "      <th>210927</th>\n",
       "      <td>2022-06-30 21:44:57</td>\n",
       "      <td>2022-06-30 21:44:57</td>\n",
       "      <td>NaN</td>\n",
       "      <td>NaN</td>\n",
       "      <td>NaN</td>\n",
       "      <td>NaN</td>\n",
       "      <td>2022-06-30</td>\n",
       "      <td>2022-06-30</td>\n",
       "    </tr>\n",
       "    <tr>\n",
       "      <th>210928</th>\n",
       "      <td>2022-06-30 21:45:06</td>\n",
       "      <td>2022-06-30 21:45:06</td>\n",
       "      <td>NaN</td>\n",
       "      <td>NaN</td>\n",
       "      <td>NaN</td>\n",
       "      <td>NaN</td>\n",
       "      <td>2022-06-30</td>\n",
       "      <td>2022-06-30</td>\n",
       "    </tr>\n",
       "  </tbody>\n",
       "</table>\n",
       "<p>210929 rows × 8 columns</p>\n",
       "</div>"
      ],
      "text/plain": [
       "                time_stamp                           lon                lat  \\\n",
       "                      self                other     self    other      self   \n",
       "0      2022-06-01 00:00:06  2022-06-01 00:00:06      NaN      NaN       NaN   \n",
       "1      2022-06-01 00:00:16  2022-06-01 00:00:16      NaN      NaN       NaN   \n",
       "2      2022-06-01 00:00:27  2022-06-01 00:00:27      NaN      NaN  41.36393   \n",
       "3      2022-06-01 00:00:37  2022-06-01 00:00:37      NaN      NaN  41.36393   \n",
       "4      2022-06-01 00:00:47  2022-06-01 00:00:47      NaN      NaN  41.36393   \n",
       "...                    ...                  ...      ...      ...       ...   \n",
       "210924 2022-06-30 21:44:27  2022-06-30 21:44:27      NaN      NaN  41.36021   \n",
       "210925 2022-06-30 21:44:35  2022-06-30 21:44:35      NaN      NaN       NaN   \n",
       "210926 2022-06-30 21:44:45  2022-06-30 21:44:45  2.17763  2.17763       NaN   \n",
       "210927 2022-06-30 21:44:57  2022-06-30 21:44:57      NaN      NaN       NaN   \n",
       "210928 2022-06-30 21:45:06  2022-06-30 21:45:06      NaN      NaN       NaN   \n",
       "\n",
       "                         day              \n",
       "           other        self       other  \n",
       "0            NaN  2022-06-01  2022-06-01  \n",
       "1            NaN  2022-06-01  2022-06-01  \n",
       "2       41.36393  2022-06-01  2022-06-01  \n",
       "3       41.36393  2022-06-01  2022-06-01  \n",
       "4       41.36393  2022-06-01  2022-06-01  \n",
       "...          ...         ...         ...  \n",
       "210924  41.36021  2022-06-30  2022-06-30  \n",
       "210925       NaN  2022-06-30  2022-06-30  \n",
       "210926       NaN  2022-06-30  2022-06-30  \n",
       "210927       NaN  2022-06-30  2022-06-30  \n",
       "210928       NaN  2022-06-30  2022-06-30  \n",
       "\n",
       "[210929 rows x 8 columns]"
      ]
     },
     "execution_count": 49,
     "metadata": {},
     "output_type": "execute_result"
    }
   ],
   "source": [
    "df_aux1.compare(df_auxt)"
   ]
  },
  {
   "cell_type": "code",
   "execution_count": 55,
   "id": "075fb9c1",
   "metadata": {},
   "outputs": [
    {
     "data": {
      "text/plain": [
       "(dtype('<M8[ns]'), dtype('O'))"
      ]
     },
     "execution_count": 55,
     "metadata": {},
     "output_type": "execute_result"
    }
   ],
   "source": [
    "(df_aux1['time_stamp'].dtypes, df_auxt['time_stamp'].dtypes)"
   ]
  },
  {
   "cell_type": "code",
   "execution_count": 56,
   "id": "867adaad",
   "metadata": {},
   "outputs": [
    {
     "data": {
      "text/plain": [
       "(dtype('float64'), dtype('float64'))"
      ]
     },
     "execution_count": 56,
     "metadata": {},
     "output_type": "execute_result"
    }
   ],
   "source": [
    "(df_aux1['lon'].dtypes, df_auxt['lat'].dtypes)"
   ]
  },
  {
   "cell_type": "code",
   "execution_count": 57,
   "id": "d4409b13",
   "metadata": {},
   "outputs": [
    {
     "data": {
      "text/plain": [
       "(dtype('float64'), dtype('float64'))"
      ]
     },
     "execution_count": 57,
     "metadata": {},
     "output_type": "execute_result"
    }
   ],
   "source": [
    "(df_aux1['lat'].dtypes, df_auxt['lat'].dtypes)"
   ]
  },
  {
   "cell_type": "code",
   "execution_count": 58,
   "id": "cfb0cd5a",
   "metadata": {},
   "outputs": [
    {
     "data": {
      "text/plain": [
       "(dtype('O'), dtype('O'))"
      ]
     },
     "execution_count": 58,
     "metadata": {},
     "output_type": "execute_result"
    }
   ],
   "source": [
    "(df_aux1['day'].dtypes, df_auxt['day'].dtypes)"
   ]
  },
  {
   "cell_type": "code",
   "execution_count": null,
   "id": "66db2bd0",
   "metadata": {},
   "outputs": [],
   "source": []
  }
 ],
 "metadata": {
  "colab": {
   "collapsed_sections": [
    "44f79004-a702-48bf-8fa6-288322f44b30",
    "e4d62952-e35a-489a-af6b-8f5942ecfa6e",
    "d0ed4cbd-7a8a-4cd5-83d8-b76a7058d206",
    "523555f5-a490-4e5e-a836-9975e597bc37",
    "ad381e8d-38a8-4a93-80e5-50921e7f2400",
    "31e7c1f8-6860-4ccd-866d-2ea8e28a9196",
    "01f08f1a-0782-431c-8591-e1b78027fe85"
   ],
   "provenance": []
  },
  "kernelspec": {
   "display_name": "Python 3",
   "language": "python",
   "name": "python3"
  },
  "language_info": {
   "codemirror_mode": {
    "name": "ipython",
    "version": 3
   },
   "file_extension": ".py",
   "mimetype": "text/x-python",
   "name": "python",
   "nbconvert_exporter": "python",
   "pygments_lexer": "ipython3",
   "version": "3.6.9"
  }
 },
 "nbformat": 4,
 "nbformat_minor": 5
}
